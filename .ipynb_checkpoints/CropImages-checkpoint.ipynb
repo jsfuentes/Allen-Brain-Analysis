{
 "cells": [
  {
   "cell_type": "code",
   "execution_count": 21,
   "metadata": {
    "collapsed": true
   },
   "outputs": [],
   "source": [
    "from scipy import ndimage, misc, stats\n",
    "import numpy as np\n",
    "import os"
   ]
  },
  {
   "cell_type": "code",
   "execution_count": 22,
   "metadata": {
    "collapsed": true
   },
   "outputs": [],
   "source": [
    "def mkdirsafe (newpath):\n",
    "    \"\"\"make directory if it doesn't already exist\"\"\"\n",
    "    if not os.path.exists(newpath): os.makedirs(newpath)"
   ]
  },
  {
   "cell_type": "code",
   "execution_count": 23,
   "metadata": {
    "collapsed": true
   },
   "outputs": [],
   "source": [
    "def filterdirectory(path,extension):\n",
    "    \"\"\"return list of files under the directory given by the path that ends with the extension\"\"\"\n",
    "    files = [file for file in os.listdir(path) if file.lower().endswith(extension) and file[0] !='.']\n",
    "    return files"
   ]
  },
  {
   "cell_type": "code",
   "execution_count": 28,
   "metadata": {
    "collapsed": true
   },
   "outputs": [],
   "source": [
    "def maskOfColor(color, img):\n",
    "    red, green, blue = img[:,:,0], img[:,:,1], img[:,:,2]\n",
    "    mask = (red == color[0]) & (green == color[1]) & (blue == color[2])\n",
    "    return mask"
   ]
  },
  {
   "cell_type": "code",
   "execution_count": 57,
   "metadata": {},
   "outputs": [
    {
     "name": "stdout",
     "output_type": "stream",
     "text": [
      "['382_593_1_7.jpg', '362_593_1_2_ps.jpg', '374_593_1_5.jpg', '370_593_1_4_ps.jpg', '386_593_1_8.jpg', '394_593_1_10.jpg', '406_593_2_1.jpg', '398_593_1_11.jpg', '390_593_1_9.jpg']\n",
      "382_593_1_7.jpg\n",
      "(4860, 8000, 3)\n",
      "(4333, 8000, 3)\n",
      "(4333, 7920, 3)\n",
      "362_593_1_2_ps.jpg\n",
      "(5064, 7824, 3)\n",
      "(5064, 7824, 3)\n",
      "(5064, 7734, 3)\n",
      "374_593_1_5.jpg\n",
      "(5100, 8000, 3)\n",
      "(4936, 8000, 3)\n",
      "(4936, 7703, 3)\n",
      "370_593_1_4_ps.jpg\n",
      "(4240, 7656, 3)\n",
      "(4237, 7656, 3)\n",
      "(4237, 7656, 3)\n",
      "386_593_1_8.jpg\n",
      "(4860, 8000, 3)\n",
      "(4324, 8000, 3)\n",
      "(4324, 7792, 3)\n",
      "394_593_1_10.jpg\n",
      "(5000, 8600, 3)\n",
      "(4859, 8600, 3)\n",
      "(4859, 8236, 3)\n",
      "406_593_2_1.jpg\n",
      "(9700, 7600, 3)\n",
      "(3792, 7600, 3)\n",
      "(3792, 5504, 3)\n",
      "398_593_1_11.jpg\n",
      "(4300, 8000, 3)\n",
      "(3994, 8000, 3)\n",
      "(3994, 7759, 3)\n",
      "390_593_1_9.jpg\n",
      "(4900, 7900, 3)\n",
      "(4900, 7900, 3)\n",
      "(4900, 7900, 3)\n"
     ]
    }
   ],
   "source": [
    "path_to_images = \"/home/jorge/Documents/Allen-Brain-Analysis/Images/\"\n",
    "\n",
    "os.chdir(path_to_images)\n",
    "directory = filterdirectory(path_to_images,\".jpg\")\n",
    "print(directory)\n",
    "\n",
    "for picPath in directory:\n",
    "    print(picPath)\n",
    "    picArr = ndimage.imread(picPath)\n",
    "    white = (255, 255, 255)\n",
    "    black = [0, 0, 0]\n",
    "    \n",
    "    #turn white to black\n",
    "    picArr[maskOfColor(white, picArr)] = black\n",
    "    \n",
    "    #remove all rows and columns of only black\n",
    "    bMask = maskOfColor(black, picArr)\n",
    "    bRows = np.all(bMask, axis=1)\n",
    "    picArr = picArr[~bRows]\n",
    "    bMask = maskOfColor(black, picArr)\n",
    "    bCols = np.all(bMask, axis=0)\n",
    "    picArr = picArr[:, ~bCols]\n",
    "    \n",
    "    #add rows and cols of black\n",
    "    newArr = np.zeros((round(picArr.shape[0]*1.1), round(picArr.shape[1]*1.1), 3))\n",
    "    \n",
    "    newPicPath = \"cropped/\" + picPath.split(\".\")[0] + \"_white.jpg\" \n",
    "    mkdirsafe('cropped')\n",
    "    misc.imsave(newPicPath, picArr)"
   ]
  },
  {
   "cell_type": "code",
   "execution_count": 53,
   "metadata": {
    "scrolled": true
   },
   "outputs": [
    {
     "name": "stdout",
     "output_type": "stream",
     "text": [
      "[[[  0   0   0]\n",
      "  [  0   0   0]\n",
      "  [  0   0   0]]\n",
      "\n",
      " [[  0   0   0]\n",
      "  [128   0 128]\n",
      "  [255 128 128]]\n",
      "\n",
      " [[  0   0   0]\n",
      "  [  0   0   0]\n",
      "  [  0   0   0]]]\n",
      "[ True False False]\n",
      "[[[  0   0   0]\n",
      "  [128   0 128]\n",
      "  [255 128 128]]]\n",
      "[[[128   0 128]\n",
      "  [255 128 128]]]\n"
     ]
    }
   ],
   "source": [
    "sImage = np.array([[[255, 255, 255], [255, 255, 255], [255, 255, 255]],\n",
    "               [[255, 255, 255], [128, 0, 128], [255, 128, 128]],\n",
    "               [[255, 255, 255], [255, 255, 255], [0, 0, 0]]])\n",
    "\n",
    "\n",
    "black = (0, 0, 0)\n",
    "sImage[maskOfColor(white, sImage)] = [0, 0, 0]\n",
    "print(sImage)\n",
    "blackMask = maskOfColor(black, sImage)\n",
    "blackRows = np.all(blackMask, axis=1)\n",
    "sImage = sImage[~blackRows]\n",
    "blackMask = maskOfColor(black, sImage)\n",
    "blackCols = np.all(blackMask, axis=0)\n",
    "sImage = sImage[:, ~blackCols]"
   ]
  },
  {
   "cell_type": "code",
   "execution_count": 36,
   "metadata": {
    "collapsed": true
   },
   "outputs": [],
   "source": []
  },
  {
   "cell_type": "code",
   "execution_count": null,
   "metadata": {
    "collapsed": true
   },
   "outputs": [],
   "source": []
  }
 ],
 "metadata": {
  "kernelspec": {
   "display_name": "Python 2",
   "language": "python",
   "name": "python2"
  },
  "language_info": {
   "codemirror_mode": {
    "name": "ipython",
    "version": 2
   },
   "file_extension": ".py",
   "mimetype": "text/x-python",
   "name": "python",
   "nbconvert_exporter": "python",
   "pygments_lexer": "ipython2",
   "version": "2.7.12"
  }
 },
 "nbformat": 4,
 "nbformat_minor": 2
}
