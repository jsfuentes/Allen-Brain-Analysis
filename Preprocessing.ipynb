{
 "cells": [
  {
   "cell_type": "markdown",
   "metadata": {},
   "source": [
    "# Preprocessing\n",
    "By Jorge Fuentes\n",
    "\n",
    "The Allen Brain Analysis requires photos to be darkened, straightened, and cropped. These functions aim to acheive this programatically.\n",
    "\n",
    "Currently only works with .jpg images with rgb values of values 0-255.\n",
    "\n",
    "\n",
    "## Table of contents\n",
    "1. [File Helpers](#file)\n",
    "2. [Crop Image](#crop)\n",
    "3. [Filter Image](#filter)\n",
    "4. [Main](#main)"
   ]
  },
  {
   "cell_type": "code",
   "execution_count": 8,
   "metadata": {},
   "outputs": [],
   "source": [
    "import numpy as np\n",
    "import imageio\n",
    "import os\n",
    "from tqdm import tqdm\n",
    "from scipy import ndimage"
   ]
  },
  {
   "cell_type": "markdown",
   "metadata": {},
   "source": [
    "## File Helpers <a name=\"file\"></a>\n",
    "These functions build off the os library to navigate the file structure"
   ]
  },
  {
   "cell_type": "code",
   "execution_count": 9,
   "metadata": {},
   "outputs": [],
   "source": [
    "def mkdirsafe (newpath):\n",
    "    \"\"\"\n",
    "    Ensures the path exists, creating it if necessary\n",
    "    :param str newpath: The path to the directory\n",
    "    \"\"\"\n",
    "    if not os.path.exists(newpath): os.makedirs(newpath)\n",
    "\n",
    "def filterdirectory(path, extension):\n",
    "    \"\"\"\n",
    "    Find unhidden files with the extension in the path's directory\n",
    "    :param str path: Path to directory\n",
    "    :param str extension: File extension on the end of filename\n",
    "    \"\"\"\n",
    "    files = [file for file in os.listdir(path) if file.lower().endswith(extension) and file[0] !='.']\n",
    "    return files\n"
   ]
  },
  {
   "cell_type": "markdown",
   "metadata": {},
   "source": [
    "## Crop Image <a name=\"crop\"></a>\n",
    "testArr = np.array([[[0,255,255],[255,255,255],[0,255,255]],\n",
    "                    [[255,255,255],[255,255,255],[255,255,255]], \n",
    "                    [[255,255,0],[255,255,255],[255,255,0]]], dtype=\"uint8\")"
   ]
  },
  {
   "cell_type": "code",
   "execution_count": 10,
   "metadata": {},
   "outputs": [],
   "source": [
    "def maskOfColor(color, img):\n",
    "    red, green, blue = img[:,:,0], img[:,:,1], img[:,:,2]\n",
    "    mask = (red == color[0]) & (green == color[1]) & (blue == color[2])\n",
    "    return mask"
   ]
  },
  {
   "cell_type": "code",
   "execution_count": 11,
   "metadata": {},
   "outputs": [],
   "source": [
    "def cropImage(picArr, bufferRatio):\n",
    "    \"\"\"\n",
    "    It turns all pure white to pure black, then removes any pure black rows, \n",
    "        than adds a buffer that is a bufferRatio percentage of the whole picture.\n",
    "        \n",
    "    :param numpy array uint8 picArr: picture array\n",
    "    :param float bufferRatio: percentage of the images width/height to add to each side\n",
    "    \"\"\"\n",
    "    white = [255, 255, 255]\n",
    "    black = [0, 0, 0]\n",
    "\n",
    "    #turn white to black\n",
    "    picArr[maskOfColor(white, picArr)] = black\n",
    "\n",
    "    #remove all rows and columns of only black\n",
    "    bMask = maskOfColor(black, picArr)\n",
    "    bRows = np.all(bMask, axis=1)\n",
    "    picArr = picArr[~bRows]\n",
    "    bMask = maskOfColor(black, picArr)\n",
    "    bCols = np.all(bMask, axis=0)\n",
    "    picArr = picArr[:, ~bCols]\n",
    "\n",
    "    #add rows and cols of black\n",
    "    rowBuffer = np.zeros((int(round(picArr.shape[0]*bufferRatio)), picArr.shape[1], 3), dtype='uint8')\n",
    "    picArr = np.vstack((rowBuffer, picArr, rowBuffer))\n",
    "\n",
    "    colBuffer = np.zeros((picArr.shape[0], int(round(picArr.shape[1]*bufferRatio)), 3), dtype='uint8')\n",
    "    picArr = np.hstack((colBuffer, picArr, colBuffer))\n",
    "    return picArr"
   ]
  },
  {
   "cell_type": "markdown",
   "metadata": {},
   "source": [
    "## Filter Image<a name=\"filter\"></a>"
   ]
  },
  {
   "cell_type": "code",
   "execution_count": 12,
   "metadata": {},
   "outputs": [],
   "source": [
    "def filterImage(img):\n",
    "    \"\"\"\n",
    "    Take a guassian filter of just the green part of the image to reduce noise\n",
    "    :param numpy array uint8 imagearray: picture array\n",
    "    \"\"\"\n",
    "    #only look at green values\n",
    "    img = img[:,:,1]\n",
    "    #the guassian filter is used to reduce noise by blurring/smoothing the image\n",
    "    img = ndimage.filters.gaussian_filter(img,2)\n",
    "    #TODO: add option to compress image\n",
    "    return img"
   ]
  },
  {
   "cell_type": "markdown",
   "metadata": {},
   "source": [
    "## Main Code<a name=\"main\"></a>\n",
    "Change variables below to your values"
   ]
  },
  {
   "cell_type": "code",
   "execution_count": 15,
   "metadata": {},
   "outputs": [],
   "source": [
    "path_to_images = \"/Users/jfuentes/Projects/Allen-Brain-Analysis/idealImages/2495\"\n",
    "bufferRatio = 0.1"
   ]
  },
  {
   "cell_type": "code",
   "execution_count": 16,
   "metadata": {},
   "outputs": [
    {
     "name": "stderr",
     "output_type": "stream",
     "text": [
      "\r",
      "  0%|          | 0/61 [00:00<?, ?it/s]"
     ]
    },
    {
     "name": "stdout",
     "output_type": "stream",
     "text": [
      "['165_out_{Wendy}{012115}{2495-1}{Jan 21 15, 164730}{ImmunoFluorescentHighRes}{4}.jpg', '185_out_{Wendy}{012115}{2495-2}{Jan 21 15, 164904}{ImmunoFluorescentHighRes}{6}.jpg', '250_out_{Wendy}{012115}{2495-3}{Jan 21 15, 165035}{ImmunoFluorescentHighRes}{4}.jpg', '405_out_{Wendy}{012115}{2495-5}{Jan 21 15, 165333}{ImmunoFluorescentHighRes}{6}.jpg', '374_out_{Wendy}{012115}{2495-5}{Jan 21 15, 165333}{ImmunoFluorescentHighRes}{3}.jpg', '305_out_{Wendy}{012115}{2495-4}{Jan 21 15, 165204}{ImmunoFluorescentHighRes}{11}.jpg', '125_out_{Wendy}{012115}{2495-1}{Jan 21 15, 164730}{ImmunoFluorescentHighRes}{1}.jpg', '105_out_{Wendy}{012115}{2495-1}{Jan 21 15, 164730}{ImmunoFluorescentHighRes}{3}.jpg', '153_out_{Wendy}{012115}{2495-1}{Jan 21 15, 164730}{ImmunoFluorescentHighRes}{14}.jpg', '230_out_{Wendy}{012115}{2495-2}{Jan 21 15, 164904}{ImmunoFluorescentHighRes}{11}.jpg', '285_out_{Wendy}{012115}{2495-3}{Jan 21 15, 165035}{ImmunoFluorescentHighRes}{10}.jpg', '226_out_{Wendy}{012115}{2495-2}{Jan 21 15, 164904}{ImmunoFluorescentHighRes}{8}.jpg', '314_out_{Wendy}{012115}{2495-4}{Jan 21 15, 165204}{ImmunoFluorescentHighRes}{8}.jpg', '209_out_{Wendy}{012115}{2495-2}{Jan 21 15, 164904}{ImmunoFluorescentHighRes}{7}.jpg', '197_out_{Wendy}{012115}{2495-2}{Jan 21 15, 164904}{ImmunoFluorescentHighRes}{4}.jpg', '113_out_{Wendy}{012115}{2495-1}{Jan 21 15, 164730}{ImmunoFluorescentHighRes}{9}.jpg', '193_out_{Wendy}{012115}{2495-2}{Jan 21 15, 164904}{ImmunoFluorescentHighRes}{0}.jpg', '214_out_{Wendy}{012115}{2495-2}{Jan 21 15, 164904}{ImmunoFluorescentHighRes}{9}.jpg', '190_out_{Wendy}{012115}{2495-1}{Jan 21 15, 164730}{ImmunoFluorescentHighRes}{15}.jpg', '253_out_{Wendy}{012115}{2495-3}{Jan 21 15, 165035}{ImmunoFluorescentHighRes}{3}.jpg', '158_out_{Wendy}{012115}{2495-1}{Jan 21 15, 164730}{ImmunoFluorescentHighRes}{2}.jpg', '309_out_{Wendy}{012115}{2495-4}{Jan 21 15, 165204}{ImmunoFluorescentHighRes}{1}.jpg', '265_out_{Wendy}{012115}{2495-3}{Jan 21 15, 165035}{ImmunoFluorescentHighRes}{6}.jpg', '218_out_{Wendy}{012115}{2495-2}{Jan 21 15, 164904}{ImmunoFluorescentHighRes}{2}.jpg', '205_out_{Wendy}{012115}{2495-2}{Jan 21 15, 164904}{ImmunoFluorescentHighRes}{10}.jpg', '245_out_{Wendy}{012115}{2495-3}{Jan 21 15, 165035}{ImmunoFluorescentHighRes}{8}.jpg', '362_out_{Wendy}{012115}{2495-5}{Jan 21 15, 165333}{ImmunoFluorescentHighRes}{2}.jpg', '273_out_{Wendy}{012115}{2495-3}{Jan 21 15, 165035}{ImmunoFluorescentHighRes}{0}.jpg', '370_out_{Wendy}{012115}{2495-5}{Jan 21 15, 165333}{ImmunoFluorescentHighRes}{0}.jpg', '301_out_{Wendy}{012115}{2495-4}{Jan 21 15, 165204}{ImmunoFluorescentHighRes}{4}.jpg', '173_out_{Wendy}{012115}{2495-1}{Jan 21 15, 164730}{ImmunoFluorescentHighRes}{8}.jpg', '149_out_{Wendy}{012115}{2495-1}{Jan 21 15, 164730}{ImmunoFluorescentHighRes}{10}.jpg', '354_out_{Wendy}{012115}{2495-5}{Jan 21 15, 165333}{ImmunoFluorescentHighRes}{5}.jpg', '257_out_{Wendy}{012115}{2495-3}{Jan 21 15, 165035}{ImmunoFluorescentHighRes}{11}.jpg', '330_out_{Wendy}{012115}{2495-4}{Jan 21 15, 165204}{ImmunoFluorescentHighRes}{7}.jpg', '366_out_{Wendy}{012115}{2495-5}{Jan 21 15, 165333}{ImmunoFluorescentHighRes}{8}.jpg', '402_out_{Wendy}{012115}{2495-5}{Jan 21 15, 165333}{ImmunoFluorescentHighRes}{7}.jpg', '317_out_{Wendy}{012115}{2495-4}{Jan 21 15, 165204}{ImmunoFluorescentHighRes}{0}.jpg', '277_out_{Wendy}{012115}{2495-3}{Jan 21 15, 165035}{ImmunoFluorescentHighRes}{7}.jpg', '222_out_{Wendy}{012115}{2495-2}{Jan 21 15, 164904}{ImmunoFluorescentHighRes}{5}.jpg', '261_out_{Wendy}{012115}{2495-3}{Jan 21 15, 165035}{ImmunoFluorescentHighRes}{1}.jpg', '137_out_{Wendy}{012115}{2495-1}{Jan 21 15, 164730}{ImmunoFluorescentHighRes}{7}.jpg', '358_out_{Wendy}{012115}{2495-5}{Jan 21 15, 165333}{ImmunoFluorescentHighRes}{4}.jpg', '269_out_{Wendy}{012115}{2495-3}{Jan 21 15, 165035}{ImmunoFluorescentHighRes}{9}.jpg', '281_out_{Wendy}{012115}{2495-3}{Jan 21 15, 165035}{ImmunoFluorescentHighRes}{5}.jpg', '121_out_{Wendy}{012115}{2495-1}{Jan 21 15, 164730}{ImmunoFluorescentHighRes}{13}.jpg', '234_out_{Wendy}{012115}{2495-3}{Jan 21 15, 165035}{ImmunoFluorescentHighRes}{2}.jpg', '322_out_{Wendy}{012115}{2495-4}{Jan 21 15, 165204}{ImmunoFluorescentHighRes}{5}.jpg', '289_out_{Wendy}{012115}{2495-4}{Jan 21 15, 165204}{ImmunoFluorescentHighRes}{3}.jpg', '177_out_{Wendy}{012115}{2495-2}{Jan 21 15, 164904}{ImmunoFluorescentHighRes}{3}.jpg', '349_out_{Wendy}{012115}{2495-5}{Jan 21 15, 165333}{ImmunoFluorescentHighRes}{1}.jpg', '181_out_{Wendy}{012115}{2495-1}{Jan 21 15, 164730}{ImmunoFluorescentHighRes}{12}.jpg', '338_out_{Wendy}{012115}{2495-4}{Jan 21 15, 165204}{ImmunoFluorescentHighRes}{9}.jpg', '133_out_{Wendy}{012115}{2495-1}{Jan 21 15, 164730}{ImmunoFluorescentHighRes}{5}.jpg', '342_out_{Wendy}{012115}{2495-5}{Jan 21 15, 165333}{ImmunoFluorescentHighRes}{9}.jpg', '297_out_{Wendy}{012115}{2495-4}{Jan 21 15, 165204}{ImmunoFluorescentHighRes}{6}.jpg', '326_out_{Wendy}{012115}{2495-4}{Jan 21 15, 165204}{ImmunoFluorescentHighRes}{10}.jpg', '110_out_{Wendy}{012115}{2495-1}{Jan 21 15, 164730}{ImmunoFluorescentHighRes}{6}.jpg', '117_out_{Wendy}{012115}{2495-1}{Jan 21 15, 164730}{ImmunoFluorescentHighRes}{11}.jpg', '201_out_{Wendy}{012115}{2495-2}{Jan 21 15, 164904}{ImmunoFluorescentHighRes}{1}.jpg', '293_out_{Wendy}{012115}{2495-4}{Jan 21 15, 165204}{ImmunoFluorescentHighRes}{2}.jpg']\n",
      "165_out_{Wendy}{012115}{2495-1}{Jan 21 15, 164730}{ImmunoFluorescentHighRes}{4}.jpg\n"
     ]
    },
    {
     "name": "stderr",
     "output_type": "stream",
     "text": [
      "\r",
      "  2%|▏         | 1/61 [00:08<08:17,  8.30s/it]"
     ]
    },
    {
     "name": "stdout",
     "output_type": "stream",
     "text": [
      "185_out_{Wendy}{012115}{2495-2}{Jan 21 15, 164904}{ImmunoFluorescentHighRes}{6}.jpg\n"
     ]
    },
    {
     "name": "stderr",
     "output_type": "stream",
     "text": [
      "\r",
      "  3%|▎         | 2/61 [00:15<07:46,  7.90s/it]"
     ]
    },
    {
     "name": "stdout",
     "output_type": "stream",
     "text": [
      "250_out_{Wendy}{012115}{2495-3}{Jan 21 15, 165035}{ImmunoFluorescentHighRes}{4}.jpg\n"
     ]
    },
    {
     "name": "stderr",
     "output_type": "stream",
     "text": [
      "\r",
      "  5%|▍         | 3/61 [00:24<07:56,  8.21s/it]"
     ]
    },
    {
     "name": "stdout",
     "output_type": "stream",
     "text": [
      "405_out_{Wendy}{012115}{2495-5}{Jan 21 15, 165333}{ImmunoFluorescentHighRes}{6}.jpg\n"
     ]
    },
    {
     "name": "stderr",
     "output_type": "stream",
     "text": [
      "\r",
      "  7%|▋         | 4/61 [00:28<06:50,  7.20s/it]"
     ]
    },
    {
     "name": "stdout",
     "output_type": "stream",
     "text": [
      "374_out_{Wendy}{012115}{2495-5}{Jan 21 15, 165333}{ImmunoFluorescentHighRes}{3}.jpg\n"
     ]
    },
    {
     "name": "stderr",
     "output_type": "stream",
     "text": [
      "\r",
      "  8%|▊         | 5/61 [00:36<06:51,  7.35s/it]"
     ]
    },
    {
     "name": "stdout",
     "output_type": "stream",
     "text": [
      "305_out_{Wendy}{012115}{2495-4}{Jan 21 15, 165204}{ImmunoFluorescentHighRes}{11}.jpg\n"
     ]
    },
    {
     "name": "stderr",
     "output_type": "stream",
     "text": [
      "\r",
      " 10%|▉         | 6/61 [00:46<07:06,  7.75s/it]"
     ]
    },
    {
     "name": "stdout",
     "output_type": "stream",
     "text": [
      "125_out_{Wendy}{012115}{2495-1}{Jan 21 15, 164730}{ImmunoFluorescentHighRes}{1}.jpg\n"
     ]
    },
    {
     "name": "stderr",
     "output_type": "stream",
     "text": [
      "\r",
      " 11%|█▏        | 7/61 [00:51<06:36,  7.35s/it]"
     ]
    },
    {
     "name": "stdout",
     "output_type": "stream",
     "text": [
      "105_out_{Wendy}{012115}{2495-1}{Jan 21 15, 164730}{ImmunoFluorescentHighRes}{3}.jpg\n"
     ]
    },
    {
     "name": "stderr",
     "output_type": "stream",
     "text": [
      "\r",
      " 13%|█▎        | 8/61 [00:56<06:11,  7.01s/it]"
     ]
    },
    {
     "name": "stdout",
     "output_type": "stream",
     "text": [
      "153_out_{Wendy}{012115}{2495-1}{Jan 21 15, 164730}{ImmunoFluorescentHighRes}{14}.jpg\n"
     ]
    },
    {
     "name": "stderr",
     "output_type": "stream",
     "text": [
      "\r",
      " 15%|█▍        | 9/61 [01:02<05:58,  6.90s/it]"
     ]
    },
    {
     "name": "stdout",
     "output_type": "stream",
     "text": [
      "230_out_{Wendy}{012115}{2495-2}{Jan 21 15, 164904}{ImmunoFluorescentHighRes}{11}.jpg\n"
     ]
    },
    {
     "name": "stderr",
     "output_type": "stream",
     "text": [
      "\r",
      " 16%|█▋        | 10/61 [01:10<06:00,  7.08s/it]"
     ]
    },
    {
     "name": "stdout",
     "output_type": "stream",
     "text": [
      "285_out_{Wendy}{012115}{2495-3}{Jan 21 15, 165035}{ImmunoFluorescentHighRes}{10}.jpg\n"
     ]
    },
    {
     "name": "stderr",
     "output_type": "stream",
     "text": [
      "\r",
      " 18%|█▊        | 11/61 [01:23<06:17,  7.55s/it]"
     ]
    },
    {
     "name": "stdout",
     "output_type": "stream",
     "text": [
      "226_out_{Wendy}{012115}{2495-2}{Jan 21 15, 164904}{ImmunoFluorescentHighRes}{8}.jpg\n"
     ]
    },
    {
     "name": "stderr",
     "output_type": "stream",
     "text": [
      "\r",
      " 20%|█▉        | 12/61 [01:31<06:13,  7.63s/it]"
     ]
    },
    {
     "name": "stdout",
     "output_type": "stream",
     "text": [
      "314_out_{Wendy}{012115}{2495-4}{Jan 21 15, 165204}{ImmunoFluorescentHighRes}{8}.jpg\n"
     ]
    },
    {
     "name": "stderr",
     "output_type": "stream",
     "text": [
      "\r",
      " 21%|██▏       | 13/61 [01:42<06:16,  7.85s/it]"
     ]
    },
    {
     "name": "stdout",
     "output_type": "stream",
     "text": [
      "209_out_{Wendy}{012115}{2495-2}{Jan 21 15, 164904}{ImmunoFluorescentHighRes}{7}.jpg\n"
     ]
    },
    {
     "name": "stderr",
     "output_type": "stream",
     "text": [
      "\r",
      " 23%|██▎       | 14/61 [01:51<06:15,  7.98s/it]"
     ]
    },
    {
     "name": "stdout",
     "output_type": "stream",
     "text": [
      "197_out_{Wendy}{012115}{2495-2}{Jan 21 15, 164904}{ImmunoFluorescentHighRes}{4}.jpg\n"
     ]
    },
    {
     "name": "stderr",
     "output_type": "stream",
     "text": [
      "\r",
      " 25%|██▍       | 15/61 [02:01<06:11,  8.08s/it]"
     ]
    },
    {
     "name": "stdout",
     "output_type": "stream",
     "text": [
      "113_out_{Wendy}{012115}{2495-1}{Jan 21 15, 164730}{ImmunoFluorescentHighRes}{9}.jpg\n"
     ]
    },
    {
     "name": "stderr",
     "output_type": "stream",
     "text": [
      "\r",
      " 26%|██▌       | 16/61 [02:05<05:53,  7.86s/it]"
     ]
    },
    {
     "name": "stdout",
     "output_type": "stream",
     "text": [
      "193_out_{Wendy}{012115}{2495-2}{Jan 21 15, 164904}{ImmunoFluorescentHighRes}{0}.jpg\n"
     ]
    },
    {
     "name": "stderr",
     "output_type": "stream",
     "text": [
      "\r",
      " 28%|██▊       | 17/61 [02:12<05:43,  7.81s/it]"
     ]
    },
    {
     "name": "stdout",
     "output_type": "stream",
     "text": [
      "214_out_{Wendy}{012115}{2495-2}{Jan 21 15, 164904}{ImmunoFluorescentHighRes}{9}.jpg\n"
     ]
    },
    {
     "name": "stderr",
     "output_type": "stream",
     "text": [
      "\r",
      " 30%|██▉       | 18/61 [02:23<05:43,  7.98s/it]"
     ]
    },
    {
     "name": "stdout",
     "output_type": "stream",
     "text": [
      "190_out_{Wendy}{012115}{2495-1}{Jan 21 15, 164730}{ImmunoFluorescentHighRes}{15}.jpg\n"
     ]
    },
    {
     "name": "stderr",
     "output_type": "stream",
     "text": [
      "\r",
      " 31%|███       | 19/61 [02:31<05:35,  7.99s/it]"
     ]
    },
    {
     "name": "stdout",
     "output_type": "stream",
     "text": [
      "253_out_{Wendy}{012115}{2495-3}{Jan 21 15, 165035}{ImmunoFluorescentHighRes}{3}.jpg\n"
     ]
    },
    {
     "name": "stderr",
     "output_type": "stream",
     "text": [
      "\r",
      " 33%|███▎      | 20/61 [02:42<05:32,  8.12s/it]"
     ]
    },
    {
     "name": "stdout",
     "output_type": "stream",
     "text": [
      "158_out_{Wendy}{012115}{2495-1}{Jan 21 15, 164730}{ImmunoFluorescentHighRes}{2}.jpg\n"
     ]
    },
    {
     "name": "stderr",
     "output_type": "stream",
     "text": [
      "\r",
      " 34%|███▍      | 21/61 [02:49<05:23,  8.08s/it]"
     ]
    },
    {
     "name": "stdout",
     "output_type": "stream",
     "text": [
      "309_out_{Wendy}{012115}{2495-4}{Jan 21 15, 165204}{ImmunoFluorescentHighRes}{1}.jpg\n"
     ]
    },
    {
     "name": "stderr",
     "output_type": "stream",
     "text": [
      "\r",
      " 36%|███▌      | 22/61 [03:00<05:20,  8.21s/it]"
     ]
    },
    {
     "name": "stdout",
     "output_type": "stream",
     "text": [
      "265_out_{Wendy}{012115}{2495-3}{Jan 21 15, 165035}{ImmunoFluorescentHighRes}{6}.jpg\n"
     ]
    },
    {
     "name": "stderr",
     "output_type": "stream",
     "text": [
      "\r",
      " 38%|███▊      | 23/61 [03:11<05:17,  8.34s/it]"
     ]
    },
    {
     "name": "stdout",
     "output_type": "stream",
     "text": [
      "218_out_{Wendy}{012115}{2495-2}{Jan 21 15, 164904}{ImmunoFluorescentHighRes}{2}.jpg\n"
     ]
    },
    {
     "name": "stderr",
     "output_type": "stream",
     "text": [
      "\r",
      " 39%|███▉      | 24/61 [03:20<05:09,  8.37s/it]"
     ]
    },
    {
     "name": "stdout",
     "output_type": "stream",
     "text": [
      "205_out_{Wendy}{012115}{2495-2}{Jan 21 15, 164904}{ImmunoFluorescentHighRes}{10}.jpg\n"
     ]
    },
    {
     "name": "stderr",
     "output_type": "stream",
     "text": [
      "\r",
      " 41%|████      | 25/61 [03:29<05:01,  8.38s/it]"
     ]
    },
    {
     "name": "stdout",
     "output_type": "stream",
     "text": [
      "245_out_{Wendy}{012115}{2495-3}{Jan 21 15, 165035}{ImmunoFluorescentHighRes}{8}.jpg\n"
     ]
    },
    {
     "name": "stderr",
     "output_type": "stream",
     "text": [
      "\r",
      " 43%|████▎     | 26/61 [03:39<04:56,  8.46s/it]"
     ]
    },
    {
     "name": "stdout",
     "output_type": "stream",
     "text": [
      "362_out_{Wendy}{012115}{2495-5}{Jan 21 15, 165333}{ImmunoFluorescentHighRes}{2}.jpg\n"
     ]
    },
    {
     "name": "stderr",
     "output_type": "stream",
     "text": [
      "\r",
      " 44%|████▍     | 27/61 [03:50<04:50,  8.55s/it]"
     ]
    },
    {
     "name": "stdout",
     "output_type": "stream",
     "text": [
      "273_out_{Wendy}{012115}{2495-3}{Jan 21 15, 165035}{ImmunoFluorescentHighRes}{0}.jpg\n"
     ]
    },
    {
     "name": "stderr",
     "output_type": "stream",
     "text": [
      "\r",
      " 46%|████▌     | 28/61 [04:00<04:43,  8.59s/it]"
     ]
    },
    {
     "name": "stdout",
     "output_type": "stream",
     "text": [
      "370_out_{Wendy}{012115}{2495-5}{Jan 21 15, 165333}{ImmunoFluorescentHighRes}{0}.jpg\n"
     ]
    },
    {
     "name": "stderr",
     "output_type": "stream",
     "text": [
      "\r",
      " 48%|████▊     | 29/61 [04:10<04:36,  8.64s/it]"
     ]
    },
    {
     "name": "stdout",
     "output_type": "stream",
     "text": [
      "301_out_{Wendy}{012115}{2495-4}{Jan 21 15, 165204}{ImmunoFluorescentHighRes}{4}.jpg\n"
     ]
    },
    {
     "name": "stderr",
     "output_type": "stream",
     "text": [
      "\r",
      " 49%|████▉     | 30/61 [04:21<04:30,  8.71s/it]"
     ]
    },
    {
     "name": "stdout",
     "output_type": "stream",
     "text": [
      "173_out_{Wendy}{012115}{2495-1}{Jan 21 15, 164730}{ImmunoFluorescentHighRes}{8}.jpg\n"
     ]
    },
    {
     "name": "stderr",
     "output_type": "stream",
     "text": [
      "\r",
      " 51%|█████     | 31/61 [04:29<04:20,  8.68s/it]"
     ]
    },
    {
     "name": "stdout",
     "output_type": "stream",
     "text": [
      "149_out_{Wendy}{012115}{2495-1}{Jan 21 15, 164730}{ImmunoFluorescentHighRes}{10}.jpg\n"
     ]
    },
    {
     "name": "stderr",
     "output_type": "stream",
     "text": [
      "\r",
      " 52%|█████▏    | 32/61 [04:36<04:10,  8.64s/it]"
     ]
    },
    {
     "name": "stdout",
     "output_type": "stream",
     "text": [
      "354_out_{Wendy}{012115}{2495-5}{Jan 21 15, 165333}{ImmunoFluorescentHighRes}{5}.jpg\n"
     ]
    },
    {
     "name": "stderr",
     "output_type": "stream",
     "text": [
      "\r",
      " 54%|█████▍    | 33/61 [04:47<04:04,  8.72s/it]"
     ]
    },
    {
     "name": "stdout",
     "output_type": "stream",
     "text": [
      "257_out_{Wendy}{012115}{2495-3}{Jan 21 15, 165035}{ImmunoFluorescentHighRes}{11}.jpg\n"
     ]
    },
    {
     "name": "stderr",
     "output_type": "stream",
     "text": [
      "\r",
      " 56%|█████▌    | 34/61 [04:56<03:55,  8.73s/it]"
     ]
    },
    {
     "name": "stdout",
     "output_type": "stream",
     "text": [
      "330_out_{Wendy}{012115}{2495-4}{Jan 21 15, 165204}{ImmunoFluorescentHighRes}{7}.jpg\n"
     ]
    },
    {
     "name": "stderr",
     "output_type": "stream",
     "text": [
      " 57%|█████▋    | 35/61 [05:07<03:48,  8.79s/it]/anaconda2/envs/brainLab/lib/python3.6/site-packages/PIL/Image.py:2496: DecompressionBombWarning: Image size (103322969 pixels) exceeds limit of 89478485 pixels, could be decompression bomb DOS attack.\n",
      "  DecompressionBombWarning)\n"
     ]
    },
    {
     "name": "stdout",
     "output_type": "stream",
     "text": [
      "366_out_{Wendy}{012115}{2495-5}{Jan 21 15, 165333}{ImmunoFluorescentHighRes}{8}.jpg\n"
     ]
    },
    {
     "name": "stderr",
     "output_type": "stream",
     "text": [
      "\r",
      " 59%|█████▉    | 36/61 [05:22<03:43,  8.95s/it]"
     ]
    },
    {
     "name": "stdout",
     "output_type": "stream",
     "text": [
      "402_out_{Wendy}{012115}{2495-5}{Jan 21 15, 165333}{ImmunoFluorescentHighRes}{7}.jpg\n"
     ]
    },
    {
     "name": "stderr",
     "output_type": "stream",
     "text": [
      "\r",
      " 61%|██████    | 37/61 [05:26<03:31,  8.83s/it]"
     ]
    },
    {
     "name": "stdout",
     "output_type": "stream",
     "text": [
      "317_out_{Wendy}{012115}{2495-4}{Jan 21 15, 165204}{ImmunoFluorescentHighRes}{0}.jpg\n"
     ]
    },
    {
     "name": "stderr",
     "output_type": "stream",
     "text": [
      " 62%|██████▏   | 38/61 [05:36<03:23,  8.86s/it]/anaconda2/envs/brainLab/lib/python3.6/site-packages/PIL/Image.py:2496: DecompressionBombWarning: Image size (92028391 pixels) exceeds limit of 89478485 pixels, could be decompression bomb DOS attack.\n",
      "  DecompressionBombWarning)\n"
     ]
    },
    {
     "name": "stdout",
     "output_type": "stream",
     "text": [
      "277_out_{Wendy}{012115}{2495-3}{Jan 21 15, 165035}{ImmunoFluorescentHighRes}{7}.jpg\n"
     ]
    },
    {
     "name": "stderr",
     "output_type": "stream",
     "text": [
      "\r",
      " 64%|██████▍   | 39/61 [07:06<04:00, 10.93s/it]"
     ]
    },
    {
     "name": "stdout",
     "output_type": "stream",
     "text": [
      "222_out_{Wendy}{012115}{2495-2}{Jan 21 15, 164904}{ImmunoFluorescentHighRes}{5}.jpg\n"
     ]
    },
    {
     "name": "stderr",
     "output_type": "stream",
     "text": [
      "\r",
      " 66%|██████▌   | 40/61 [07:15<03:48, 10.90s/it]"
     ]
    },
    {
     "name": "stdout",
     "output_type": "stream",
     "text": [
      "261_out_{Wendy}{012115}{2495-3}{Jan 21 15, 165035}{ImmunoFluorescentHighRes}{1}.jpg\n"
     ]
    },
    {
     "name": "stderr",
     "output_type": "stream",
     "text": [
      "\r",
      " 67%|██████▋   | 41/61 [07:27<03:38, 10.92s/it]"
     ]
    },
    {
     "name": "stdout",
     "output_type": "stream",
     "text": [
      "137_out_{Wendy}{012115}{2495-1}{Jan 21 15, 164730}{ImmunoFluorescentHighRes}{7}.jpg\n"
     ]
    },
    {
     "name": "stderr",
     "output_type": "stream",
     "text": [
      "\r",
      " 69%|██████▉   | 42/61 [07:33<03:24, 10.79s/it]"
     ]
    },
    {
     "name": "stdout",
     "output_type": "stream",
     "text": [
      "358_out_{Wendy}{012115}{2495-5}{Jan 21 15, 165333}{ImmunoFluorescentHighRes}{4}.jpg\n"
     ]
    },
    {
     "name": "stderr",
     "output_type": "stream",
     "text": [
      "\r",
      " 70%|███████   | 43/61 [07:45<03:14, 10.81s/it]"
     ]
    },
    {
     "name": "stdout",
     "output_type": "stream",
     "text": [
      "269_out_{Wendy}{012115}{2495-3}{Jan 21 15, 165035}{ImmunoFluorescentHighRes}{9}.jpg\n"
     ]
    },
    {
     "name": "stderr",
     "output_type": "stream",
     "text": [
      "\r",
      " 72%|███████▏  | 44/61 [07:55<03:03, 10.81s/it]"
     ]
    },
    {
     "name": "stdout",
     "output_type": "stream",
     "text": [
      "281_out_{Wendy}{012115}{2495-3}{Jan 21 15, 165035}{ImmunoFluorescentHighRes}{5}.jpg\n"
     ]
    },
    {
     "name": "stderr",
     "output_type": "stream",
     "text": [
      "\r",
      " 74%|███████▍  | 45/61 [08:08<02:53, 10.85s/it]"
     ]
    },
    {
     "name": "stdout",
     "output_type": "stream",
     "text": [
      "121_out_{Wendy}{012115}{2495-1}{Jan 21 15, 164730}{ImmunoFluorescentHighRes}{13}.jpg\n"
     ]
    },
    {
     "name": "stderr",
     "output_type": "stream",
     "text": [
      "\r",
      " 75%|███████▌  | 46/61 [08:13<02:40, 10.72s/it]"
     ]
    },
    {
     "name": "stdout",
     "output_type": "stream",
     "text": [
      "234_out_{Wendy}{012115}{2495-3}{Jan 21 15, 165035}{ImmunoFluorescentHighRes}{2}.jpg\n"
     ]
    },
    {
     "name": "stderr",
     "output_type": "stream",
     "text": [
      "\r",
      " 77%|███████▋  | 47/61 [08:23<02:30, 10.72s/it]"
     ]
    },
    {
     "name": "stdout",
     "output_type": "stream",
     "text": [
      "322_out_{Wendy}{012115}{2495-4}{Jan 21 15, 165204}{ImmunoFluorescentHighRes}{5}.jpg\n"
     ]
    },
    {
     "name": "stderr",
     "output_type": "stream",
     "text": [
      "\r",
      " 79%|███████▊  | 48/61 [08:35<02:19, 10.75s/it]"
     ]
    },
    {
     "name": "stdout",
     "output_type": "stream",
     "text": [
      "289_out_{Wendy}{012115}{2495-4}{Jan 21 15, 165204}{ImmunoFluorescentHighRes}{3}.jpg\n"
     ]
    },
    {
     "name": "stderr",
     "output_type": "stream",
     "text": [
      "\r",
      " 80%|████████  | 49/61 [08:47<02:09, 10.77s/it]"
     ]
    },
    {
     "name": "stdout",
     "output_type": "stream",
     "text": [
      "177_out_{Wendy}{012115}{2495-2}{Jan 21 15, 164904}{ImmunoFluorescentHighRes}{3}.jpg\n"
     ]
    },
    {
     "name": "stderr",
     "output_type": "stream",
     "text": [
      "\r",
      " 82%|████████▏ | 50/61 [08:57<01:58, 10.75s/it]"
     ]
    },
    {
     "name": "stdout",
     "output_type": "stream",
     "text": [
      "349_out_{Wendy}{012115}{2495-5}{Jan 21 15, 165333}{ImmunoFluorescentHighRes}{1}.jpg\n"
     ]
    },
    {
     "name": "stderr",
     "output_type": "stream",
     "text": [
      "\r",
      " 84%|████████▎ | 51/61 [09:08<01:47, 10.76s/it]"
     ]
    },
    {
     "name": "stdout",
     "output_type": "stream",
     "text": [
      "181_out_{Wendy}{012115}{2495-1}{Jan 21 15, 164730}{ImmunoFluorescentHighRes}{12}.jpg\n"
     ]
    },
    {
     "name": "stderr",
     "output_type": "stream",
     "text": [
      "\r",
      " 85%|████████▌ | 52/61 [09:16<01:36, 10.69s/it]"
     ]
    },
    {
     "name": "stdout",
     "output_type": "stream",
     "text": [
      "338_out_{Wendy}{012115}{2495-4}{Jan 21 15, 165204}{ImmunoFluorescentHighRes}{9}.jpg\n"
     ]
    },
    {
     "name": "stderr",
     "output_type": "stream",
     "text": [
      "\r",
      " 87%|████████▋ | 53/61 [09:26<01:25, 10.69s/it]"
     ]
    },
    {
     "name": "stdout",
     "output_type": "stream",
     "text": [
      "133_out_{Wendy}{012115}{2495-1}{Jan 21 15, 164730}{ImmunoFluorescentHighRes}{5}.jpg\n"
     ]
    },
    {
     "name": "stderr",
     "output_type": "stream",
     "text": [
      "\r",
      " 89%|████████▊ | 54/61 [09:32<01:14, 10.60s/it]"
     ]
    },
    {
     "name": "stdout",
     "output_type": "stream",
     "text": [
      "342_out_{Wendy}{012115}{2495-5}{Jan 21 15, 165333}{ImmunoFluorescentHighRes}{9}.jpg\n"
     ]
    },
    {
     "name": "stderr",
     "output_type": "stream",
     "text": [
      "\r",
      " 90%|█████████ | 55/61 [09:44<01:03, 10.63s/it]"
     ]
    },
    {
     "name": "stdout",
     "output_type": "stream",
     "text": [
      "297_out_{Wendy}{012115}{2495-4}{Jan 21 15, 165204}{ImmunoFluorescentHighRes}{6}.jpg\n"
     ]
    },
    {
     "name": "stderr",
     "output_type": "stream",
     "text": [
      "\r",
      " 92%|█████████▏| 56/61 [09:56<00:53, 10.65s/it]"
     ]
    },
    {
     "name": "stdout",
     "output_type": "stream",
     "text": [
      "326_out_{Wendy}{012115}{2495-4}{Jan 21 15, 165204}{ImmunoFluorescentHighRes}{10}.jpg\n"
     ]
    },
    {
     "name": "stderr",
     "output_type": "stream",
     "text": [
      "\r",
      " 93%|█████████▎| 57/61 [10:08<00:42, 10.68s/it]"
     ]
    },
    {
     "name": "stdout",
     "output_type": "stream",
     "text": [
      "110_out_{Wendy}{012115}{2495-1}{Jan 21 15, 164730}{ImmunoFluorescentHighRes}{6}.jpg\n"
     ]
    },
    {
     "name": "stderr",
     "output_type": "stream",
     "text": [
      "\r",
      " 95%|█████████▌| 58/61 [10:12<00:31, 10.56s/it]"
     ]
    },
    {
     "name": "stdout",
     "output_type": "stream",
     "text": [
      "117_out_{Wendy}{012115}{2495-1}{Jan 21 15, 164730}{ImmunoFluorescentHighRes}{11}.jpg\n"
     ]
    },
    {
     "name": "stderr",
     "output_type": "stream",
     "text": [
      "\r",
      " 97%|█████████▋| 59/61 [10:17<00:20, 10.46s/it]"
     ]
    },
    {
     "name": "stdout",
     "output_type": "stream",
     "text": [
      "201_out_{Wendy}{012115}{2495-2}{Jan 21 15, 164904}{ImmunoFluorescentHighRes}{1}.jpg\n"
     ]
    },
    {
     "name": "stderr",
     "output_type": "stream",
     "text": [
      "\r",
      " 98%|█████████▊| 60/61 [10:25<00:10, 10.43s/it]"
     ]
    },
    {
     "name": "stdout",
     "output_type": "stream",
     "text": [
      "293_out_{Wendy}{012115}{2495-4}{Jan 21 15, 165204}{ImmunoFluorescentHighRes}{2}.jpg\n"
     ]
    },
    {
     "name": "stderr",
     "output_type": "stream",
     "text": [
      "100%|██████████| 61/61 [10:35<00:00, 10.42s/it]\n"
     ]
    }
   ],
   "source": [
    "os.chdir(path_to_images)\n",
    "directory = filterdirectory(path_to_images,\".jpg\")\n",
    "mkdirsafe('preprocessed')\n",
    "print(directory)\n",
    "\n",
    "for picPath in tqdm(directory):\n",
    "    print(picPath)\n",
    "    newPicPath = \"preprocessed/\" + picPath \n",
    "\n",
    "    picArr = imageio.imread(picPath)\n",
    "    picArr = cropImage(picArr, bufferRatio)\n",
    "    picArr = filterImage(picArr)\n",
    "    imageio.imwrite(newPicPath, picArr)"
   ]
  },
  {
   "cell_type": "code",
   "execution_count": null,
   "metadata": {},
   "outputs": [],
   "source": []
  },
  {
   "cell_type": "code",
   "execution_count": null,
   "metadata": {},
   "outputs": [],
   "source": []
  },
  {
   "cell_type": "code",
   "execution_count": null,
   "metadata": {},
   "outputs": [],
   "source": []
  }
 ],
 "metadata": {
  "kernelspec": {
   "display_name": "Python 3",
   "language": "python",
   "name": "python3"
  },
  "language_info": {
   "codemirror_mode": {
    "name": "ipython",
    "version": 3
   },
   "file_extension": ".py",
   "mimetype": "text/x-python",
   "name": "python",
   "nbconvert_exporter": "python",
   "pygments_lexer": "ipython3",
   "version": "3.6.3"
  }
 },
 "nbformat": 4,
 "nbformat_minor": 2
}
