{
 "cells": [
  {
   "cell_type": "markdown",
   "metadata": {},
   "source": [
    "# Preprocessing\n",
    "By Jorge Fuentes\n",
    "\n",
    "The Allen Brain Analysis requires photos to be darkened, straightened, and cropped. These functions aim to acheive this programatically.\n",
    "\n",
    "Currently only works with .jpg images with rgb values of values 0-255.\n",
    "\n",
    "\n",
    "## Table of contents\n",
    "1. [File Helpers](#file)\n",
    "2. [Crop Image](#crop)\n",
    "3. [Filter Image](#filter)\n",
    "4. [Main](#main)"
   ]
  },
  {
   "cell_type": "code",
   "execution_count": 1,
   "metadata": {},
   "outputs": [],
   "source": [
    "import numpy as np\n",
    "import imageio\n",
    "import os\n",
    "from tqdm import tqdm\n",
    "from scipy import ndimage"
   ]
  },
  {
   "cell_type": "markdown",
   "metadata": {},
   "source": [
    "## File Helpers <a name=\"file\"></a>\n",
    "These functions build off the os library to navigate the file structure"
   ]
  },
  {
   "cell_type": "code",
   "execution_count": 2,
   "metadata": {},
   "outputs": [],
   "source": [
    "def mkdirsafe (newpath):\n",
    "    \"\"\"\n",
    "    Ensures the path exists, creating it if necessary\n",
    "    :param str newpath: The path to the directory\n",
    "    \"\"\"\n",
    "    if not os.path.exists(newpath): os.makedirs(newpath)\n",
    "\n",
    "def filterdirectory(path, extension):\n",
    "    \"\"\"\n",
    "    Find unhidden files with the extension in the path's directory\n",
    "    :param str path: Path to directory\n",
    "    :param str extension: File extension on the end of filename\n",
    "    \"\"\"\n",
    "    files = [file for file in os.listdir(path) if file.lower().endswith(extension) and file[0] !='.']\n",
    "    return files\n"
   ]
  },
  {
   "cell_type": "markdown",
   "metadata": {},
   "source": [
    "## Crop Image <a name=\"crop\"></a>\n",
    "testArr = np.array([[[0,255,255],[255,255,255],[0,255,255]],\n",
    "                    [[255,255,255],[255,255,255],[255,255,255]], \n",
    "                    [[255,255,0],[255,255,255],[255,255,0]]], dtype=\"uint8\")"
   ]
  },
  {
   "cell_type": "code",
   "execution_count": 3,
   "metadata": {},
   "outputs": [],
   "source": [
    "def maskOfColor(color, img):\n",
    "    red, green, blue = img[:,:,0], img[:,:,1], img[:,:,2]\n",
    "    mask = (red == color[0]) & (green == color[1]) & (blue == color[2])\n",
    "    return mask"
   ]
  },
  {
   "cell_type": "code",
   "execution_count": 4,
   "metadata": {},
   "outputs": [],
   "source": [
    "def cropImage(picArr, bufferRatio):\n",
    "    \"\"\"\n",
    "    It turns all pure white to pure black, then removes any pure black rows, \n",
    "        than adds a buffer that is a bufferRatio percentage of the whole picture.\n",
    "        \n",
    "    :param numpy array uint8 picArr: picture array\n",
    "    :param float bufferRatio: percentage of the images width/height to add to each side\n",
    "    \"\"\"\n",
    "    white = [255, 255, 255]\n",
    "    black = [0, 0, 0]\n",
    "\n",
    "    #turn white to black\n",
    "    picArr[maskOfColor(white, picArr)] = black\n",
    "\n",
    "    #remove all rows and columns of only black\n",
    "    bMask = maskOfColor(black, picArr)\n",
    "    bRows = np.all(bMask, axis=1)\n",
    "    picArr = picArr[~bRows]\n",
    "    bMask = maskOfColor(black, picArr)\n",
    "    bCols = np.all(bMask, axis=0)\n",
    "    picArr = picArr[:, ~bCols]\n",
    "\n",
    "    #add rows and cols of black\n",
    "    rowBuffer = np.zeros((int(round(picArr.shape[0]*bufferRatio)), picArr.shape[1], 3), dtype='uint8')\n",
    "    picArr = np.vstack((rowBuffer, picArr, rowBuffer))\n",
    "\n",
    "    colBuffer = np.zeros((picArr.shape[0], int(round(picArr.shape[1]*bufferRatio)), 3), dtype='uint8')\n",
    "    picArr = np.hstack((colBuffer, picArr, colBuffer))\n",
    "    return picArr"
   ]
  },
  {
   "cell_type": "markdown",
   "metadata": {},
   "source": [
    "## Filter Image<a name=\"filter\"></a>"
   ]
  },
  {
   "cell_type": "code",
   "execution_count": 5,
   "metadata": {},
   "outputs": [],
   "source": [
    "def filterImage(img):\n",
    "    \"\"\"\n",
    "    Take a guassian filter of just the green part of the image to reduce noise\n",
    "    :param numpy array uint8 imagearray: picture array\n",
    "    \"\"\"\n",
    "    #only look at green values\n",
    "    img = img[:,:,1]\n",
    "    #the guassian filter is used to reduce noise by blurring/smoothing the image\n",
    "    img = ndimage.filters.gaussian_filter(img,2)\n",
    "    #TODO: add option to compress image\n",
    "    return img"
   ]
  },
  {
   "cell_type": "markdown",
   "metadata": {},
   "source": [
    "## Main Code<a name=\"main\"></a>\n",
    "Change variables below to your values"
   ]
  },
  {
   "cell_type": "code",
   "execution_count": 7,
   "metadata": {},
   "outputs": [],
   "source": [
    "path_to_images = \"/Users/jfuentes/Projects/Allen-Brain-Analysis/Images\"\n",
    "bufferRatio = 0.1"
   ]
  },
  {
   "cell_type": "code",
   "execution_count": 8,
   "metadata": {},
   "outputs": [
    {
     "name": "stderr",
     "output_type": "stream",
     "text": [
      "\r",
      "  0%|          | 0/10 [00:00<?, ?it/s]"
     ]
    },
    {
     "name": "stdout",
     "output_type": "stream",
     "text": [
      "['362_593_1_2_ps.jpg', '398_593_1_11.jpg', '370_593_1_4_ps.jpg', '394_593_1_10.jpg', '374_593_1_5.jpg', '382_593_1_7.jpg', '1_test.jpg', '390_593_1_9.jpg', '386_593_1_8.jpg', '406_593_2_1.jpg']\n",
      "362_593_1_2_ps.jpg\n"
     ]
    },
    {
     "name": "stderr",
     "output_type": "stream",
     "text": [
      "\r",
      " 10%|█         | 1/10 [00:06<00:55,  6.21s/it]"
     ]
    },
    {
     "name": "stdout",
     "output_type": "stream",
     "text": [
      "398_593_1_11.jpg\n"
     ]
    },
    {
     "name": "stderr",
     "output_type": "stream",
     "text": [
      "\r",
      " 20%|██        | 2/10 [00:11<00:45,  5.68s/it]"
     ]
    },
    {
     "name": "stdout",
     "output_type": "stream",
     "text": [
      "370_593_1_4_ps.jpg\n"
     ]
    },
    {
     "name": "stderr",
     "output_type": "stream",
     "text": [
      "\r",
      " 30%|███       | 3/10 [00:16<00:37,  5.33s/it]"
     ]
    },
    {
     "name": "stdout",
     "output_type": "stream",
     "text": [
      "394_593_1_10.jpg\n"
     ]
    },
    {
     "name": "stderr",
     "output_type": "stream",
     "text": [
      "\r",
      " 40%|████      | 4/10 [00:23<00:34,  5.79s/it]"
     ]
    },
    {
     "name": "stdout",
     "output_type": "stream",
     "text": [
      "374_593_1_5.jpg\n"
     ]
    },
    {
     "name": "stderr",
     "output_type": "stream",
     "text": [
      "\r",
      " 50%|█████     | 5/10 [00:29<00:29,  5.82s/it]"
     ]
    },
    {
     "name": "stdout",
     "output_type": "stream",
     "text": [
      "382_593_1_7.jpg\n"
     ]
    },
    {
     "name": "stderr",
     "output_type": "stream",
     "text": [
      "\r",
      " 60%|██████    | 6/10 [00:35<00:23,  5.84s/it]"
     ]
    },
    {
     "name": "stdout",
     "output_type": "stream",
     "text": [
      "1_test.jpg\n",
      "390_593_1_9.jpg\n"
     ]
    },
    {
     "name": "stderr",
     "output_type": "stream",
     "text": [
      "\r",
      " 80%|████████  | 8/10 [00:41<00:10,  5.14s/it]"
     ]
    },
    {
     "name": "stdout",
     "output_type": "stream",
     "text": [
      "386_593_1_8.jpg\n"
     ]
    },
    {
     "name": "stderr",
     "output_type": "stream",
     "text": [
      "\r",
      " 90%|█████████ | 9/10 [00:47<00:05,  5.26s/it]"
     ]
    },
    {
     "name": "stdout",
     "output_type": "stream",
     "text": [
      "406_593_2_1.jpg\n"
     ]
    },
    {
     "name": "stderr",
     "output_type": "stream",
     "text": [
      "100%|██████████| 10/10 [00:55<00:00,  5.58s/it]\n"
     ]
    }
   ],
   "source": [
    "os.chdir(path_to_images)\n",
    "directory = filterdirectory(path_to_images,\".jpg\")\n",
    "mkdirsafe('preprocessed')\n",
    "print(directory)\n",
    "\n",
    "for picPath in tqdm(directory):\n",
    "    print(picPath)\n",
    "    newPicPath = \"preprocessed/\" + picPath \n",
    "\n",
    "    picArr = imageio.imread(picPath)\n",
    "    picArr = cropImage(picArr, bufferRatio)\n",
    "    picArr = filterImage(picArr)\n",
    "    imageio.imwrite(newPicPath, picArr)"
   ]
  },
  {
   "cell_type": "code",
   "execution_count": null,
   "metadata": {},
   "outputs": [],
   "source": []
  },
  {
   "cell_type": "code",
   "execution_count": null,
   "metadata": {},
   "outputs": [],
   "source": []
  },
  {
   "cell_type": "code",
   "execution_count": null,
   "metadata": {},
   "outputs": [],
   "source": []
  }
 ],
 "metadata": {
  "kernelspec": {
   "display_name": "Python 3",
   "language": "python",
   "name": "python3"
  },
  "language_info": {
   "codemirror_mode": {
    "name": "ipython",
    "version": 3
   },
   "file_extension": ".py",
   "mimetype": "text/x-python",
   "name": "python",
   "nbconvert_exporter": "python",
   "pygments_lexer": "ipython3",
   "version": "3.6.3"
  }
 },
 "nbformat": 4,
 "nbformat_minor": 2
}
