{
 "cells": [
  {
   "cell_type": "code",
   "execution_count": 1,
   "metadata": {
    "collapsed": false
   },
   "outputs": [],
   "source": [
    "import os, matplotlib, json, gc\n",
    "import numpy as np\n",
    "import pandas as pd\n",
    "import matplotlib.pyplot as plt\n",
    "from skimage import measure\n",
    "from scipy import ndimage , misc, stats\n",
    "matplotlib.style.use('ggplot')\n",
    "matplotlib.rc(\"savefig\", dpi=300)\n",
    "%matplotlib inline"
   ]
  },
  {
   "cell_type": "code",
   "execution_count": 2,
   "metadata": {
    "collapsed": true
   },
   "outputs": [],
   "source": [
    "def generatecelllocationarrayGrouping(structureslist,ID,Regionnames,parentid):\n",
    "    cellmap = pd.DataFrame({'SectionNumber': structureslist[:,0],\n",
    "                            'StructureID': ID,\n",
    "                            'Side': structureslist[:,1],\n",
    "                            'StructureName': Regionnames,\n",
    "                            'parent_structure_id': parentid,\n",
    "                            \n",
    "                            \n",
    "                           })\n",
    "    return cellmap"
   ]
  },
  {
   "cell_type": "code",
   "execution_count": 3,
   "metadata": {
    "collapsed": true
   },
   "outputs": [],
   "source": [
    "def generatecelllocationarray(structureslist,sectionnumber,Regionnames,parentid,parentname):\n",
    "    cellmap = pd.DataFrame({'SectionNumber': np.array([sectionnumber] * len(structureslist)),\n",
    "                            'StructureID': structureslist[:,1],\n",
    "                            'Side': structureslist[:,2],\n",
    "                            'StructureName': Regionnames,\n",
    "                            'parent_structure_id': parentid,\n",
    "                            \n",
    "                            \n",
    "                           })\n",
    "    return cellmap"
   ]
  },
  {
   "cell_type": "code",
   "execution_count": 4,
   "metadata": {
    "collapsed": true
   },
   "outputs": [],
   "source": [
    "def filterAllenMapbySingle(allenmap,conversionkeyword,startkeyword,identifier):\n",
    "    filtered = allenmap[conversionkeyword].values[np.nonzero(allenmap[[startkeyword]].values==identifier)[0]]\n",
    "    return filtered"
   ]
  },
  {
   "cell_type": "code",
   "execution_count": 5,
   "metadata": {
    "collapsed": false
   },
   "outputs": [],
   "source": [
    "def filterAllenMapby(allenmap,conversionkeyword,startkeyword,identifierIter):\n",
    "    filtered = [allenmap[conversionkeyword].values[np.nonzero(allenmap[[startkeyword]].values==identifier)[0][0]] for identifier in identifierIter]\n",
    "    return filtered\n",
    "\n",
    "def findmodeofobject (objects,ResizedAllen,allenpandamappath ='W:/Allen/'):\n",
    "    allenmap = pd.read_pickle(allenpandamappath + 'Allen_Lookup.panda')\n",
    "    AllenRegion=[]\n",
    "    [AllenRegion.append([obj[1].start,stats.mode(ResizedAllen[obj].flatten())[0][0].astype('int'),-1]) for obj in objects];\n",
    "    return AllenRegion\n",
    "\n",
    "    \n",
    "\n",
    "def enumerateRegions(objects,ResizedAllen,Sectionnumber,allenpandamappath ='W:/Allen/'):\n",
    "    allenmap = pd.read_pickle(allenpandamappath + 'Allen_Lookup.panda')\n",
    "    AllenRegion=[]\n",
    "    [AllenRegion.append([obj[1].start,stats.mode(ResizedAllen[obj].flatten())[0][0].astype('int'),-1]) for obj in objects];\n",
    "    AllenRegion= np.array(AllenRegion)\n",
    "    AllenRegion= AllenRegion[AllenRegion[:,1] > 0]\n",
    "    AllenRegion= AllenRegion[AllenRegion[:,1] != 8]\n",
    "    AllenRegion= AllenRegion[AllenRegion[:,1] != 688]\n",
    "    AllenRegion= AllenRegion[AllenRegion[:,1] != 997]\n",
    "    \n",
    "    selector_range = np.arange(AllenRegion.shape[0])\n",
    "    bool_selector =  (AllenRegion[:,0] < ResizedAllen.shape[1]/2) \n",
    "    AllenRegion[selector_range[bool_selector ],2]= 0\n",
    "    AllenRegion[selector_range[np.invert(bool_selector) ],2] = 1\n",
    "    Regionnames = filterAllenMapby(allenmap,'name','id',AllenRegion[:,1])\n",
    "    parentid = filterAllenMapby(allenmap,'parent_structure_id','id',AllenRegion[:,1])\n",
    "    parentname = filterAllenMapby(allenmap,'name','id',parentid)\n",
    "    grandparentid = filterAllenMapby(allenmap,'parent_structure_id','id',parentid)\n",
    "    grandparentname = filterAllenMapby(allenmap,'name','id',grandparentid)\n",
    "    cellmap = generatecelllocationarray(AllenRegion,Sectionnumber,Regionnames,parentid,parentname)\n",
    "    return cellmap"
   ]
  },
  {
   "cell_type": "code",
   "execution_count": 6,
   "metadata": {
    "collapsed": true
   },
   "outputs": [],
   "source": [
    "def Collect_Pandas(directorylist):\n",
    "    container = pd.DataFrame()\n",
    "    container = container.append([pd.read_pickle(file) for file in directorylist])\n",
    "    return container"
   ]
  },
  {
   "cell_type": "code",
   "execution_count": 7,
   "metadata": {
    "collapsed": true
   },
   "outputs": [],
   "source": [
    "def mkdirsafe (newpath):\n",
    "    if not os.path.exists(newpath): os.makedirs(newpath)"
   ]
  },
  {
   "cell_type": "code",
   "execution_count": 8,
   "metadata": {
    "collapsed": true
   },
   "outputs": [],
   "source": [
    "def mkexcel( path_to_pandas, animalname):\n",
    "    os.chdir(path_to_pandas)\n",
    "    directory = filterdirectory(os.curdir,\".panda\")\n",
    "\n",
    "    Brain = Collect_Pandas(directory)\n",
    "    LateralizedDF = Brain.groupby(['Side'])\n",
    "    LeftDF = LateralizedDF.get_group(0)\n",
    "    RightDF = LateralizedDF.get_group(1)\n",
    "\n",
    "\n",
    "    TotalCountsDF = pd.DataFrame({'Cells':Brain.StructureName.value_counts()})\n",
    "    LeftCountsDF = pd.DataFrame({'Cells':LeftDF.StructureName.value_counts()})\n",
    "    RightCountsDF = pd.DataFrame({'Cells':RightDF.StructureName.value_counts()})\n",
    "\n",
    "\n",
    "    os.chdir('..')\n",
    "    mkdirsafe('ExcelSheets')\n",
    "    #Raw\n",
    "    Brain.to_pickle('ExcelSheets/'+animalname +'_total.compile')\n",
    "    Brain.to_excel('ExcelSheets/'+animalname +'_RawTotal.xls')\n",
    "    LeftDF.to_excel ('ExcelSheets/'+animalname +'_RawLeft.xls')\n",
    "    RightDF.to_excel ('ExcelSheets/'+animalname +'_RawRight.xls')\n",
    "\n",
    "\n",
    "\n",
    "    #Compiled\n",
    "    TotalCountsDF.to_excel ('ExcelSheets/'+animalname +'_TotalFreq.xls')\n",
    "    LeftCountsDF.to_excel ('ExcelSheets/'+animalname +'_LeftFreq.xls')\n",
    "    RightCountsDF.to_excel ('ExcelSheets/'+animalname +'_RightFreq.xls')\n",
    "    "
   ]
  },
  {
   "cell_type": "code",
   "execution_count": 9,
   "metadata": {
    "collapsed": true
   },
   "outputs": [],
   "source": [
    "def filterdirectory(path,extension):\n",
    "    directory= [file for file in os.listdir(path) if file.lower().endswith(extension) and file[0] !='.']\n",
    "    return directory"
   ]
  },
  {
   "cell_type": "code",
   "execution_count": 10,
   "metadata": {
    "collapsed": true
   },
   "outputs": [],
   "source": [
    "def mkmpld3figs (path_to_ExcelSheetsfolder,animalname,prefix=''):\n",
    "    import mpld3\n",
    "    from mpld3 import plugins\n",
    "    os.chdir(path_to_ExcelSheetsfolder)\n",
    "    TotalCountsDF = pd.read_excel(prefix+animalname+'_TotalFreq.xls')\n",
    "    fig = plt.figure(figsize=(10,5))\n",
    "    bars = plt.bar(np.arange(TotalCountsDF.size),TotalCountsDF.values)\n",
    "    for i, bar in enumerate(bars.get_children()):\n",
    "        tooltip = mpld3.plugins.LineLabelTooltip(bar, label=str(TotalCountsDF.index[i]))\n",
    "        mpld3.plugins.connect(plt.gcf(), tooltip)\n",
    "    plt.xlim(0,50)\n",
    "    plt.title('Cell Detection for : Subject {0}'.format(animalname))\n",
    "    plt.ylabel('Cell Count')\n",
    "    plt.xlabel('Region number (Scroll over Bar for Region Name)')\n",
    "\n",
    "    a = mpld3.fig_to_html(fig)\n",
    "\n",
    "\n",
    "    Html_file= open(\"{0}.html\".format(prefix+animalname),\"w\")\n",
    "    Html_file.write(a)\n",
    "    Html_file.close()\n",
    "    plt.savefig('{0}.svg'.format(prefix+animalname))"
   ]
  },
  {
   "cell_type": "code",
   "execution_count": 11,
   "metadata": {
    "collapsed": false
   },
   "outputs": [],
   "source": [
    "def fixpandas (pathtoimages, animalname,allenlibpath='W:/Allen/'):\n",
    "    os.chdir(pathtoimages)\n",
    "    pandasdir= filterdirectory('panda/','panda')\n",
    "    for panda in pandasdir:   \n",
    "        Sectionnumber = int(panda.split('_')[1].split('.')[0])\n",
    "        iterator = int(panda.split('_')[0])\n",
    "        Allen = np.load('arrays/'+str(iterator)+'_'+str(Sectionnumber)+'_'+'AllenResized.npz')['arr_0']\n",
    "        objects = np.load('3d/'+str(iterator)+'_'+str(Sectionnumber)+'.npz')['arr_0']\n",
    "        objects = [list(objecta) for objecta in objects]\n",
    "        cellmap =enumerateRegions(objects,Allen,Sectionnumber,allenlibpath)\n",
    "        cellmap.to_pickle('panda/'+ str(iterator) + '_' +str(Sectionnumber)+'.panda')\n",
    "        #mkexcel(pathtoimages +'panda', animalname)\n",
    "        #mkmpld3figs(pathtoimages +'ExcelSheets',animalname)"
   ]
  },
  {
   "cell_type": "code",
   "execution_count": 12,
   "metadata": {
    "collapsed": true
   },
   "outputs": [],
   "source": [
    "input_form = \"\"\"\n",
    "<div style=\"border:solid navy; padding:20px;\">\n",
    "<input type=\"file\" id=\"file_selector\" name=\"files[]\"/>\n",
    "<output id=\"list\"></output>\n",
    "</div>\n",
    "\"\"\"\n",
    "\n",
    "javascript = \"\"\"\n",
    "<script type=\"text/Javascript\">\n",
    "  function handleFileSelect(evt) {\n",
    "    var kernel = IPython.notebook.kernel;\n",
    "    var files = evt.target.files; // FileList object\n",
    "    console.log('Executing orig')\n",
    "    console.log(files)\n",
    "    // files is a FileList of File objects. List some properties.\n",
    "    var output = [];\n",
    "    var f = files[0]\n",
    "    output.push('<li><strong>', escape(f.name), '</strong> (', f.type || 'n/a', ') - ',\n",
    "                  f.size, ' bytes, last modified: ',\n",
    "                  f.lastModifiedDate ? f.lastModifiedDate.toLocaleDateString() : 'n/a',\n",
    "                  '</_Mli>');\n",
    "    document.getElementById('list').innerHTML = '<ul>' + output.join('') + '</ul>';\n",
    "    var command = 'fname = \"' + f.name + '\"'\n",
    "    console.log(command)\n",
    "    kernel.execute(command);\n",
    "  }\n",
    "\n",
    "  document.getElementById('file_selector').addEventListener('change', handleFileSelect, false);\n",
    "</script>\n",
    "\"\"\"\n",
    "\n",
    "def file_selector():\n",
    "    from IPython.display import HTML, display\n",
    "    display(HTML(input_form + javascript))"
   ]
  },
  {
   "cell_type": "code",
   "execution_count": 13,
   "metadata": {
    "collapsed": false
   },
   "outputs": [],
   "source": [
    "def fixpandasEasyRun(path_to_images,animalname):\n",
    "    fixpandas(path_to_images,animalname)\n",
    "    mkexcel(path_to_images + '\\panda', animalname)\n",
    "    mkmpld3figs(path_to_images + '\\ExcelSheets',animalname)\n",
    "    \n",
    "\n",
    "    "
   ]
  },
  {
   "cell_type": "code",
   "execution_count": 14,
   "metadata": {
    "collapsed": true
   },
   "outputs": [],
   "source": [
    "def mk_Brain_excel_from_panda(path_to_images,Brain, animalname, prefix=''):\n",
    "    os.chdir(path_to_images)\n",
    "\n",
    "    LateralizedDF = Brain.groupby(['Side'])\n",
    "    LeftDF = LateralizedDF.get_group(0)\n",
    "    RightDF = LateralizedDF.get_group(1)\n",
    "\n",
    "\n",
    "    TotalCountsDF = pd.DataFrame({'Cells':Brain.StructureName.value_counts()})\n",
    "    LeftCountsDF = pd.DataFrame({'Cells':LeftDF.StructureName.value_counts()})\n",
    "    RightCountsDF = pd.DataFrame({'Cells':RightDF.StructureName.value_counts()})\n",
    "\n",
    "\n",
    "    mkdirsafe('ExcelSheets')\n",
    "    #Raw\n",
    "    Brain.to_pickle('ExcelSheets/'+prefix+animalname +'_total.compile')\n",
    "    Brain.to_excel('ExcelSheets/'+prefix+animalname +'_RawTotal.xls')\n",
    "    LeftDF.to_excel ('ExcelSheets/'+prefix+animalname +'_RawLeft.xls')\n",
    "    RightDF.to_excel ('ExcelSheets/'+prefix+animalname +'_RawRight.xls')\n",
    "\n",
    "\n",
    "\n",
    "    #Compiled\n",
    "    TotalCountsDF.to_excel ('ExcelSheets/'+prefix+animalname +'_TotalFreq.xls')\n",
    "    LeftCountsDF.to_excel ('ExcelSheets/'+prefix+animalname +'_LeftFreq.xls')\n",
    "    RightCountsDF.to_excel ('ExcelSheets/'+prefix+animalname +'_RightFreq.xls')\n",
    "    "
   ]
  },
  {
   "cell_type": "code",
   "execution_count": 15,
   "metadata": {
    "collapsed": false
   },
   "outputs": [],
   "source": [
    "def CollectGroups (path_to_images,allenmappath ='W:/Allen/Allen_Lookup.panda',parenstructurespath='W:/Allen/ParentStructures.xls' ):\n",
    "\n",
    "    os.chdir(path_to_images)\n",
    "    arraysdir= filterdirectory('ExcelSheets/','compile')\n",
    "    animalname = arraysdir[0].split('_')[0]\n",
    "    allenmap = pd.read_pickle(allenmappath)\n",
    "    os.chdir(path_to_images + 'ExcelSheets/')\n",
    "    oldestancestor = pd.read_excel(parenstructurespath)\n",
    "    brain = pd.read_pickle(arraysdir[0])\n",
    "    brain = brain.reset_index(drop=True)\n",
    "    b = brain\n",
    "    done = pd.DataFrame()\n",
    "\n",
    "    \n",
    "\n",
    "    while b.empty !=True:\n",
    "        currentdone = pd.DataFrame()\n",
    "        hold =[b[b.StructureID==ID] for ID in oldestancestor.ID.values]\n",
    "        hold = [x for x in hold if x.empty != True]\n",
    "        currentdone = currentdone.append([h for h in hold])\n",
    "        done = done.append([h for h in hold])\n",
    "        b = b.drop(currentdone.index)\n",
    "        Regionnames = filterAllenMapby(allenmap,'name','id',b.parent_structure_id.values)\n",
    "        parentid = filterAllenMapby(allenmap,'parent_structure_id','id',b.parent_structure_id)\n",
    "        cellmap = generatecelllocationarrayGrouping(b.iloc[:,0:2].values,b.parent_structure_id,Regionnames,parentid)\n",
    "        cellmap.set_index(b.index)\n",
    "        b= cellmap    \n",
    "\n",
    "    return done.sort_index()"
   ]
  },
  {
   "cell_type": "code",
   "execution_count": 16,
   "metadata": {
    "collapsed": false
   },
   "outputs": [],
   "source": [
    "def EasyfixAndCollectCompiled (path_to_images,animalname):\n",
    "    fixpandas(path_to_images,animalname)\n",
    "    mkexcel(path_to_images + '\\panda', animalname)\n",
    "    mkmpld3figs(path_to_images + '\\ExcelSheets',animalname)\n",
    "    collected = CollectGroups(path_to_images)\n",
    "    mk_Brain_excel_from_panda(path_to_images,collected,animalname,'collected_')\n",
    "    mkmpld3figs(path_to_images + '\\ExcelSheets',animalname,'collected_')\n",
    "    \n",
    "\n",
    "    "
   ]
  },
  {
   "cell_type": "code",
   "execution_count": 17,
   "metadata": {
    "collapsed": false
   },
   "outputs": [
    {
     "name": "stderr",
     "output_type": "stream",
     "text": [
      "C:\\Anaconda3\\lib\\site-packages\\IPython\\core\\formatters.py:92: DeprecationWarning: DisplayFormatter._ipython_display_formatter_default is deprecated: use @default decorator instead.\n",
      "  def _ipython_display_formatter_default(self):\n",
      "C:\\Anaconda3\\lib\\site-packages\\IPython\\core\\formatters.py:669: DeprecationWarning: PlainTextFormatter._singleton_printers_default is deprecated: use @default decorator instead.\n",
      "  def _singleton_printers_default(self):\n"
     ]
    },
    {
     "data": {
      "image/png": "[encoded data removed]",
      "text/plain": [
       "<matplotlib.figure.Figure at 0x488bb38>"
      ]
     },
     "metadata": {},
     "output_type": "display_data"
    },
    {
     "data": {
      "image/png": "[encoded data removed]",
      "text/plain": [
       "<matplotlib.figure.Figure at 0xb49d8d0>"
      ]
     },
     "metadata": {},
     "output_type": "display_data"
    }
   ],
   "source": [
    "EasyfixAndCollectCompiled('W:/Confirmed Images/D1D2 Chronic Pain/D2/2666_fixed Cuff/','2666') #REPLACE THIS WITH PROPER FILE PATHS AND NAMES"
   ]
  },
  {
   "cell_type": "code",
   "execution_count": 18,
   "metadata": {
    "collapsed": false
   },
   "outputs": [],
   "source": [
    "a = CollectGroups('W:/Confirmed Images/D1D2 Chronic Pain/D2/2666_fixed Cuff/') #REPLACE THIS WITH PROPER FILE PATHS AND NAMES"
   ]
  },
  {
   "cell_type": "code",
   "execution_count": null,
   "metadata": {
    "collapsed": false
   },
   "outputs": [],
   "source": [
    "path_to_images = 'W:/Confirmed Images/D1D2 Chronic Pain/D2/2666_fixed Cuff/' #REPLACE THIS WITH PROPER FILE PATHS AND NAMES"
   ]
  },
  {
   "cell_type": "code",
   "execution_count": null,
   "metadata": {
    "collapsed": false
   },
   "outputs": [],
   "source": [
    "animalname = '2666' #REPLACE THIS WITH PROPER FILE PATHS AND NAMES\n",
    "fixpandas('W:/Confirmed Images/D1D2 Chronic Pain/D2/2666_fixed Cuff/',animalname) #REPLACE THIS WITH PROPER FILE PATHS AND NAMES\n"
   ]
  },
  {
   "cell_type": "code",
   "execution_count": null,
   "metadata": {
    "collapsed": false
   },
   "outputs": [],
   "source": [
    "mk_Brain_excel_from_panda(path_to_images,a,animalname,'collected_')\n",
    "mkmpld3figs(path_to_images + '\\ExcelSheets',animalname,'collected_')"
   ]
  },
  {
   "cell_type": "code",
   "execution_count": null,
   "metadata": {
    "collapsed": false
   },
   "outputs": [],
   "source": [
    "path_to_images"
   ]
  },
  {
   "cell_type": "code",
   "execution_count": null,
   "metadata": {
    "collapsed": false
   },
   "outputs": [],
   "source": [
    "mkexcel(path_to_images + '\\panda', animalname)"
   ]
  },
  {
   "cell_type": "code",
   "execution_count": null,
   "metadata": {
    "collapsed": false
   },
   "outputs": [],
   "source": [
    "mkmpld3figs(path_to_images + '\\ExcelSheets',animalname)"
   ]
  },
  {
   "cell_type": "code",
   "execution_count": null,
   "metadata": {
    "collapsed": false
   },
   "outputs": [],
   "source": [
    "os.chdir('W:/Confirmed Images/D1D2 Chronic Pain/D2/2666_fixed Cuff/')#REPLACE THIS WITH PROPER FILE PATHS AND NAMES\n",
    "a = os.listdir(os.curdir)\n",
    "allenmap = pd.read_pickle('W:/Allen/Allen_Lookup.panda')\n",
    "oldestancestor = pd.read_excel('W:/Lucid/Allen/ParentStructures.xls')\n",
    "brain = pd.read_pickle('W:/Confirmed Images/D1D2 Chronic Pain/D2/2666_fixed Cuff/ExcelSheets/2666_total.compile')#REPLACE THIS WITH PROPER FILE PATHS AND NAMES\n",
    "brain = brain.reset_index(drop=True)"
   ]
  },
  {
   "cell_type": "code",
   "execution_count": null,
   "metadata": {
    "collapsed": false
   },
   "outputs": [],
   "source": []
  },
  {
   "cell_type": "markdown",
   "metadata": {
    "collapsed": false
   },
   "source": [
    "Currentuniqueregions = np.unique(brain.StructureID)\n",
    "parentuniqueregions = np.unique(brain.parent_structure_id)"
   ]
  },
  {
   "cell_type": "markdown",
   "metadata": {},
   "source": [
    "filterAllenMapby(allenmap,'name','id',parentuniqueregions[0])"
   ]
  },
  {
   "cell_type": "markdown",
   "metadata": {},
   "source": [
    "parentuniqueregions[0]"
   ]
  },
  {
   "cell_type": "markdown",
   "metadata": {},
   "source": [
    "oldestancestor.ID.values"
   ]
  },
  {
   "cell_type": "markdown",
   "metadata": {},
   "source": [
    "filterAllenMapby(brain,'name',)"
   ]
  },
  {
   "cell_type": "code",
   "execution_count": null,
   "metadata": {
    "collapsed": false
   },
   "outputs": [],
   "source": [
    "hold =[brain[brain.StructureID==ID] for ID in oldestancestor.ID.values]\n",
    "hold = [x for x in hold if x.empty != True] \n",
    "done = pd.DataFrame()\n",
    "done = done.append([h for h in hold])"
   ]
  },
  {
   "cell_type": "code",
   "execution_count": null,
   "metadata": {
    "collapsed": false
   },
   "outputs": [],
   "source": [
    "hold[0].index"
   ]
  },
  {
   "cell_type": "code",
   "execution_count": null,
   "metadata": {
    "collapsed": false
   },
   "outputs": [],
   "source": [
    "b= brain\n",
    "done = pd.DataFrame()\n",
    "i=0\n",
    "\n",
    "while b.empty !=True:\n",
    "    currentdone = pd.DataFrame()\n",
    "    hold =[b[b.StructureID==ID] for ID in oldestancestor.ID.values]\n",
    "    hold = [x for x in hold if x.empty != True]\n",
    "    currentdone = currentdone.append([h for h in hold])\n",
    "    done = done.append([h for h in hold])\n",
    "    b = b.drop(currentdone.index)\n",
    "    Regionnames = filterAllenMapby(allenmap,'name','id',b.parent_structure_id.values)\n",
    "    parentid = filterAllenMapby(allenmap,'parent_structure_id','id',b.parent_structure_id)\n",
    "    cellmap = generatecelllocationarrayGrouping(b.iloc[:,0:2].values,b.parent_structure_id,Regionnames,parentid)\n",
    "    cellmap.set_index(b.index)\n",
    "    b= cellmap    \n",
    "    i = i+1\n",
    "    print (i)"
   ]
  },
  {
   "cell_type": "code",
   "execution_count": null,
   "metadata": {
    "collapsed": false
   },
   "outputs": [],
   "source": [
    " filterAllenMapby(allenmap,'name','id',parentid[300:456])"
   ]
  },
  {
   "cell_type": "code",
   "execution_count": null,
   "metadata": {
    "collapsed": false
   },
   "outputs": [],
   "source": [
    "done = done.sort_index()"
   ]
  },
  {
   "cell_type": "code",
   "execution_count": null,
   "metadata": {
    "collapsed": false
   },
   "outputs": [],
   "source": [
    "done"
   ]
  },
  {
   "cell_type": "code",
   "execution_count": null,
   "metadata": {
    "collapsed": false
   },
   "outputs": [],
   "source": [
    "print(parentid[450:458])\n",
    "print(nowid[450:458])"
   ]
  },
  {
   "cell_type": "code",
   "execution_count": null,
   "metadata": {
    "collapsed": false
   },
   "outputs": [],
   "source": [
    "print(b.StructureID.values[237])\n",
    "print(b.parent_structure_id.values[237])\n"
   ]
  },
  {
   "cell_type": "code",
   "execution_count": null,
   "metadata": {
    "collapsed": false
   },
   "outputs": [],
   "source": [
    "brain.ix[552]"
   ]
  },
  {
   "cell_type": "code",
   "execution_count": null,
   "metadata": {
    "collapsed": false
   },
   "outputs": [],
   "source": [
    "b[b.StructureID==8]"
   ]
  },
  {
   "cell_type": "code",
   "execution_count": null,
   "metadata": {
    "collapsed": false
   },
   "outputs": [],
   "source": [
    "Regionnames = filterAllenMapby(allenmap,'name','id',b.parent_structure_id.values)\n",
    "parentid = filterAllenMapby(allenmap,'parent_structure_id','id',b.parent_structure_id.values)\n",
    "parentname = filterAllenMapby(allenmap,'name','id',parentid)\n",
    "cellmap = generatecelllocationarrayGrouping(b.iloc[:,0:2].values,b.parent_structure_id,Regionnames,parentid,parentname)\n",
    "cellmap.set_index(b.index)\n",
    "b= cellmap"
   ]
  },
  {
   "cell_type": "code",
   "execution_count": null,
   "metadata": {
    "collapsed": false
   },
   "outputs": [],
   "source": [
    "objects =np.load('C:/Users/dfpena/Desktop/Safe/3d/0_110.npz')['arr_0']"
   ]
  },
  {
   "cell_type": "code",
   "execution_count": null,
   "metadata": {
    "collapsed": false
   },
   "outputs": [],
   "source": [
    "objectslist = [list(objecta) for objecta in objects]"
   ]
  },
  {
   "cell_type": "code",
   "execution_count": null,
   "metadata": {
    "collapsed": false
   },
   "outputs": [],
   "source": [
    "resizeallen =np.load('C:/Users/dfpena/Desktop/Safe/arrays/0_110_AllenResized.npz')['arr_0']"
   ]
  },
  {
   "cell_type": "code",
   "execution_count": null,
   "metadata": {
    "collapsed": true
   },
   "outputs": [],
   "source": []
  },
  {
   "cell_type": "code",
   "execution_count": null,
   "metadata": {
    "collapsed": true
   },
   "outputs": [],
   "source": []
  }
 ],
 "metadata": {
  "kernelspec": {
   "display_name": "Python 3",
   "language": "python",
   "name": "python3"
  },
  "language_info": {
   "codemirror_mode": {
    "name": "ipython",
    "version": 3
   },
   "file_extension": ".py",
   "mimetype": "text/x-python",
   "name": "python",
   "nbconvert_exporter": "python",
   "pygments_lexer": "ipython3",
   "version": "3.4.4"
  }
 },
 "nbformat": 4,
 "nbformat_minor": 0
}
