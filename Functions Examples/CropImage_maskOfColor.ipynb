{
 "cells": [
  {
   "cell_type": "code",
   "execution_count": 13,
   "metadata": {},
   "outputs": [],
   "source": [
    "import numpy as np\n",
    "import imageio\n"
   ]
  },
  {
   "cell_type": "code",
   "execution_count": 14,
   "metadata": {
    "collapsed": true
   },
   "outputs": [],
   "source": [
    "def maskOfColor(color, img):\n",
    "    red, green, blue = img[:,:,0], img[:,:,1], img[:,:,2]\n",
    "    mask = (red == color[0]) & (green == color[1]) & (blue == color[2])\n",
    "    return mask"
   ]
  },
  {
   "cell_type": "code",
   "execution_count": 15,
   "metadata": {
    "collapsed": true
   },
   "outputs": [],
   "source": [
    "def createTestImage(name):\n",
    "    red = np.full((25,75, 3), 0, 'uint8')\n",
    "    blue = np.full((25,75,3), 100, 'uint8')\n",
    "    yellow = np.full((25,75,3), 256, 'uint8')\n",
    "    sample = np.vstack((red, blue, yellow))\n",
    "    imageio.imwrite(name, sample)\n",
    "    return sample"
   ]
  },
  {
   "cell_type": "code",
   "execution_count": 16,
   "metadata": {},
   "outputs": [
    {
     "name": "stdout",
     "output_type": "stream",
     "text": [
      "[[200 200 200]\n",
      " [200 200 200]\n",
      " [200 200 200]\n",
      " ..., \n",
      " [200 200 200]\n",
      " [200 200 200]\n",
      " [200 200 200]]\n"
     ]
    }
   ],
   "source": [
    "sample = createTestImage(\"testImage.jpg\")\n",
    "color = [200,200,200]\n",
    "x = maskOfColor(color, sample)\n",
    "print sample[x]\n",
    "imageio.imwrite(\"maskedBool.jpg\", x)"
   ]
  },
  {
   "cell_type": "code",
   "execution_count": null,
   "metadata": {
    "collapsed": true
   },
   "outputs": [],
   "source": []
  }
 ],
 "metadata": {
  "kernelspec": {
   "display_name": "Python 2",
   "language": "python",
   "name": "python2"
  },
  "language_info": {
   "codemirror_mode": {
    "name": "ipython",
    "version": 2
   },
   "file_extension": ".py",
   "mimetype": "text/x-python",
   "name": "python",
   "nbconvert_exporter": "python",
   "pygments_lexer": "ipython2",
   "version": "2.7.13"
  }
 },
 "nbformat": 4,
 "nbformat_minor": 2
}
